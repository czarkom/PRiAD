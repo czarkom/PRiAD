{
 "cells": [
  {
   "cell_type": "markdown",
   "metadata": {},
   "source": [
    "# PRiAD1 - test zaliczający\n",
    "\n",
    "Test obejmuje zagadnienia, których dotyczy skrypt PRiAD0 oraz PRiAD1"
   ]
  },
  {
   "cell_type": "markdown",
   "metadata": {},
   "source": [
    "> **Zadanie 1** Utwórz słownik, którego kluczami bedą wyrazy \"imie\",\"nazwisko\",\"indeks\", zaś wartościami ciągi znaków - odpowiednio Twoje imię, nazwisko i numer indeksu\n"
   ]
  },
  {
   "cell_type": "code",
   "execution_count": 139,
   "metadata": {},
   "outputs": [
    {
     "name": "stdout",
     "output_type": "stream",
     "text": [
      "{'indeks': 292810, 'imie': 'Maciej', 'nazwisko': 'Czarkowski'}\n"
     ]
    }
   ],
   "source": [
    "dictionary = {\n",
    "    \"indeks\" : 292810,\n",
    "    \"imie\" : \"Maciej\",\n",
    "    \"nazwisko\" : \"Czarkowski\"\n",
    "}\n",
    "print(dictionary)"
   ]
  },
  {
   "cell_type": "markdown",
   "metadata": {},
   "source": [
    "> **Zadanie 2** Na podstawie ciągu znaków numeru indeksu wygeneruj liczbę kontrolną jako sumę cyfr numeru indeksu modulo 8"
   ]
  },
  {
   "cell_type": "code",
   "execution_count": 140,
   "metadata": {},
   "outputs": [
    {
     "name": "stdout",
     "output_type": "stream",
     "text": [
      "22\n"
     ]
    },
    {
     "data": {
      "text/plain": [
       "6"
      ]
     },
     "execution_count": 140,
     "metadata": {},
     "output_type": "execute_result"
    }
   ],
   "source": [
    "number = dictionary[\"indeks\"]\n",
    "sum = 0\n",
    "for digit in str(number):\n",
    "    sum += int(digit)\n",
    "print(sum)\n",
    "control_number = sum%8\n",
    "control_number"
   ]
  },
  {
   "cell_type": "markdown",
   "metadata": {},
   "source": [
    "> **Zadanie 3** Wczytaj do ramki danych plik `daneX.csv` przy czym zamiast X wstaw otrzymaną w zadaniu 2 sumę kontrolną, wyświetl liczbę wierszy (obiektów), kolumn (atybutów) oraz podstawowe miary atrybutów (statystyki opisowe)"
   ]
  },
  {
   "cell_type": "code",
   "execution_count": 141,
   "metadata": {},
   "outputs": [
    {
     "name": "stdout",
     "output_type": "stream",
     "text": [
      "Liczba kolumn v1: 3\n",
      "Liczba wierszy v1: 144\n",
      "Liczba kolumn v2: 3\n",
      "Liczba wierszy v2: 144\n",
      "         atrybut1    atrybut2\n",
      "count  144.000000  144.000000\n",
      "mean    38.541667   61.861111\n",
      "std     29.918508   26.049874\n",
      "min      2.000000    6.000000\n",
      "25%     13.000000   40.750000\n",
      "50%     25.000000   59.500000\n",
      "75%     66.250000   90.000000\n",
      "max     96.000000  100.000000\n"
     ]
    }
   ],
   "source": [
    "import pandas as pd\n",
    "data = pd.read_csv(\"dane6.csv\")\n",
    "print(\"Liczba kolumn v1: \" + str(len(data.columns)))#1 opcja na kolumny\n",
    "print(\"Liczba wierszy v1: \" + str(len(data.index)))#1 opcja na wiersze\n",
    "print(\"Liczba kolumn v2: \" + str(data.shape[1])) #2 opcja na liczbę kolumn\n",
    "print(\"Liczba wierszy v2: \" + str(data.shape[0])) #2 opcja na liczbę wierszy\n",
    "print(data.describe())\n",
    "\n"
   ]
  },
  {
   "cell_type": "markdown",
   "metadata": {},
   "source": [
    "> **Zadanie 4** Stwórz macierz o losowych wartościach wymiaru 20 x 3. Kolumny mają mieć nazwę `kol_1`, `kol_2`, `kol_3`. Napisz funkcję wstawiającą między kolumnę `kol_1`, a `kol_2`  kolumnę `kol_1_2` składającą się z wartości kolumny `kol_1` podniesionych do kwadratu, oraz na końcu kolumnę `kol_2_3` zawierającą iloczyn wyrazów kolumny `kol_2` i `kol_3`. "
   ]
  },
  {
   "cell_type": "code",
   "execution_count": 142,
   "metadata": {},
   "outputs": [
    {
     "name": "stdout",
     "output_type": "stream",
     "text": [
      "    kol_1  kol_1_2  kol_2  kol_3  kol_2_3\n",
      "0      13      169      8      5       40\n",
      "1       7       49     14      1       14\n",
      "2      17      289      5     16       80\n",
      "3       6       36     13      4       52\n",
      "4      13      169      3      9       27\n",
      "5       0        0      2      9       18\n",
      "6      15      225      2     16       32\n",
      "7      15      225      2      0        0\n",
      "8       2        4     18      2       36\n",
      "9      16      256      2      6       12\n",
      "10      8       64      9      2       18\n",
      "11     19      361      7      9       63\n",
      "12      4       16      2     14       28\n",
      "13      0        0     14      9      126\n",
      "14     12      144      8     11       88\n",
      "15      9       81      6      2       12\n",
      "16     10      100      5     17       85\n",
      "17     12      144      8     12       96\n",
      "18     12      144      8      9       72\n",
      "19      7       49     12      5       60\n"
     ]
    }
   ],
   "source": [
    "import numpy as np\n",
    "df = pd.DataFrame(np.random.randint(0,20,size=(20,3)), columns = ['kol_1', 'kol_2','kol_3'] )\n",
    "fun(df)\n",
    "def fun(df):\n",
    "    df.insert(1,'kol_1_2',df['kol_1'].pow(2))\n",
    "    df.insert(4,'kol_2_3',df['kol_2'] * df['kol_3'])\n",
    "    print(df)"
   ]
  },
  {
   "cell_type": "markdown",
   "metadata": {},
   "source": [
    "> **Zadanie 5** Zmień nazwę tego skryptu na następującą \"PRiAD1_Imię_Nazwisko.ipynb\" i wgraj wgraj go do ISOD-a we wskazane miejsce, nie przekraczając wyznaczonego terminu."
   ]
  },
  {
   "cell_type": "code",
   "execution_count": null,
   "metadata": {},
   "outputs": [],
   "source": []
  }
 ],
 "metadata": {
  "kernelspec": {
   "display_name": "Python 3",
   "language": "python",
   "name": "python3"
  },
  "language_info": {
   "codemirror_mode": {
    "name": "ipython",
    "version": 3
   },
   "file_extension": ".py",
   "mimetype": "text/x-python",
   "name": "python",
   "nbconvert_exporter": "python",
   "pygments_lexer": "ipython3",
   "version": "3.7.6"
  }
 },
 "nbformat": 4,
 "nbformat_minor": 4
}
